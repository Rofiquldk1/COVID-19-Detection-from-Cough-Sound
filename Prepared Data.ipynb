# Import the necessary packages
import tensorflow as tf
import numpy as np
import pandas as pd
from pandas import read_csv
from tensorflow import keras
from tensorflow.keras import layers
from google.colab import drive
from sklearn.linear_model import LogisticRegression
from sklearn.datasets import load_iris
from sklearn.model_selection import train_test_split
import math
from sklearn.metrics import roc_auc_score, confusion_matrix, accuracy_score, recall_score, precision_score
from imblearn.metrics import specificity_score
from sklearn.metrics import classification_report
from sklearn.model_selection import cross_val_score
from sklearn.model_selection import StratifiedKFold
from keras.callbacks import ModelCheckpoint,EarlyStopping,ReduceLROnPlateau
import matplotlib.pyplot as plt
import sklearn
from itertools import product
from statistics import mean, stdev
from sklearn import preprocessing
from sklearn.feature_selection import RFECV
from sklearn.model_selection import StratifiedKFold
from hyperopt import hp, fmin, tpe, STATUS_OK, Trials, anneal
from sklearn.model_selection import cross_val_score, cross_val_predict
from sklearn.ensemble import ExtraTreesClassifier

#Declare the necessary variables
train_data_file = "train_data.csv"
test_data_file = "test_data.csv"
all_data_file = "all_data.csv"
X_data_file = "X_data.csv"
Y_data_file = "Y_data.csv"
TARGET_LABELS = [0.0,1.0]

#Prepare the data
drive.mount('/content/drive')

cambridgeAsymptomaticdatasetX = np.load('/content/drive/MyDrive/Extracted Features/Cambridge/Task 1/cough_X_features_np.npy')
cambridgeAsymptomaticdatasetY = np.load('/content/drive/MyDrive/Extracted Features/Cambridge/Task 1/cough_y_features_np.npy')

cambridgeSymptomaticdatasetX = np.load('/content/drive/MyDrive/Extracted Features/Cambridge/Task 2/cough_X_features_np.npy')
cambridgeSymptomaticdatasetY = np.load('/content/drive/MyDrive/Extracted Features/Cambridge/Task 2/cough_y_features_np.npy')

coswaradatasetX = np.load('/content/drive/MyDrive/Extracted Features/Coswara/cough_X_features_np.npy')
coswaradatasetY = np.load('/content/drive/MyDrive/Extracted Features/Coswara/cough_y_features_np.npy')

coughviddatasetX = np.load('/content/drive/MyDrive/Extracted Features/COUGHVID/cough_X_features_np.npy')
coughviddatasetY = np.load('/content/drive/MyDrive/Extracted Features/COUGHVID/cough_y_features_np.npy')

virufydatasetX = np.load('/content/drive/MyDrive/Extracted Features/Virufy/cough_X_features_np.npy')
virufydatasetY = np.load('/content/drive/MyDrive/Extracted Features/Virufy/cough_y_features_np.npy')

virufyNoCoCoDadatasetX = np.load('/content/drive/MyDrive/Extracted Features/NOCOCODA and Virufy/cough_X_features_np.npy')
virufyNoCoCoDadatasetY = np.load('/content/drive/MyDrive/Extracted Features/NOCOCODA and Virufy/cough_y_features_np.npy')


#cambridgeAsymptomaticdataset,cambridgeSymptomaticdataset,coswaradataset,coughviddataset,virufydataset,virufyNoCoCoDadataset
datasetX = coswaradatasetX #Replace dataset name
datasetY = coswaradatasetY #Replace dataset name

train_index = []
test_index = []

#split train and test data
for i in range(10):
   #Replace dataset name (cambridgeAsymptomaticdataset,cambridgeSymptomaticdataset,coswaradataset,coughviddataset,virufydataset,virufyNoCoCoDadataset)
   train_index_url = '/content/drive/MyDrive/Train-Test Split/coswaradataset/train/'+str(i)+'.csv'
   test_index_url = '/content/drive/MyDrive/Train-Test Split/coswaradataset/test/'+str(i)+'.csv'

   df = pd.read_csv(train_index_url)
   label=df['train_index'].tolist()
   train_array=np.array(label)
   train_index.append(train_array)

   df = pd.read_csv(test_index_url)
   label=df['test_index'].tolist()
   test_array=np.array(label)
   test_index.append(test_array)


print(f"cambridgeAsymptomaticdatasetX shape : {cambridgeAsymptomaticdatasetX.shape}")
print(f"cambridgeAsymptomaticdatasetY shape : {cambridgeAsymptomaticdatasetY.shape}")
print('')

print(f"cambridgeSymptomaticdatasetX shape : {cambridgeSymptomaticdatasetX.shape}")
print(f"cambridgeSymptomaticdatasetY shape : {cambridgeSymptomaticdatasetY.shape}")
print('')


print(f"coswaradatasetX shape : {coswaradatasetX.shape}")
print(f"coswaradatasetY shape : {coswaradatasetY.shape}")


print(f"coughviddatasetX shape : {coughviddatasetX.shape}")
print(f"coughviddatasetY shape : {coughviddatasetY.shape}")


print(f"virufydatasetX shape : {virufydatasetX.shape}")
print(f"virufydatasetY shape : {virufydatasetY.shape}")


print(f"virufyNoCoCoDadatasetX shape : {virufyNoCoCoDadatasetX.shape}")
print(f"virufyNoCoCoDadatasetY shape : {virufyNoCoCoDadatasetY.shape}")


print(f"ComPareX shape : {ComPareX.shape}")
print(f"ComPareY shape : {ComPareY.shape}")


#datasetX = [cambridgeAsymptomaticdatasetX,cambridgeSymptomaticdatasetX,coswaradatasetX,coughviddatasetX,virufydatasetX,virufyNoCoCoDadatasetX]
#datasetY = [cambridgeAsymptomaticdatasetY,cambridgeSymptomaticdatasetY,coswaradatasetY,coughviddatasetY,virufydatasetY,virufyNoCoCoDadatasetY]

X_data_ls = []
Y_data_ls = []

rows,columns = datasetX.shape

C=0
N=0

for i in range(rows):
    col = []
    arr = datasetX[i]
    for j in range(1,len(arr)+1,1):
       col.append(float(arr[j-1]))
    X_data_ls.append(col)
    if(datasetY[i]=='C'):
       Y_data_ls.append(0)
       C+=1
    else:
       Y_data_ls.append(1)
       N+=1

X_data = np.array(X_data_ls)
Y_data = np.array(Y_data_ls)

print(f"X_data: {X_data.shape}")
print(f"Y_data: {Y_data.shape}")

print(f"C: {C}")
print(f"N: {N}")