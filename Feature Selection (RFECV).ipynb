from sklearn.model_selection import train_test_split
from sklearn.feature_selection import RFECV
from sklearn.model_selection import StratifiedKFold
from sklearn.ensemble import ExtraTreesClassifier

min_features_to_select = 1  # Minimum number of features to consider

def select_features(X_train,y_train,X_data):
  fs_model = ExtraTreesClassifier(n_estimators=50,random_state = 0)
  rfecv = RFECV(estimator=fs_model, step=1, cv=StratifiedKFold(10),scoring='roc_auc',min_features_to_select=min_features_to_select)

  print(f"shape of X_data before transform: {X_data.shape}")

  rfecv.fit(X_train, y_train)

  # transform train input data
  X_data_fs = rfecv.transform(X_data)
  print(f"shape of X_data_fs after transform: {X_data_fs.shape}")

  return X_data_fs, rfecv


X_train, X_test, y_train, y_test = train_test_split(X_data,Y_data,test_size=0.20, random_state=42)
X_data_fs, rfecv = select_features(X_train,y_train,X_data)

